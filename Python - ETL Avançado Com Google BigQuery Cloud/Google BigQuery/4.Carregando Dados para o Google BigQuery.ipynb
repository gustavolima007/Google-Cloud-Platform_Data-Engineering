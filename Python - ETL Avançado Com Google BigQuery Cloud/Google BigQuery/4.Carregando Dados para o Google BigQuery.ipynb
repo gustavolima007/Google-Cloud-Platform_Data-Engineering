{
 "cells": [
  {
   "cell_type": "code",
   "execution_count": 86,
   "metadata": {},
   "outputs": [],
   "source": [
    "#pip install google-cloud-bigquery\n",
    "#pip install --upgrade google-cloud-bigquery\n",
    "#pip install pandas\n",
    "\n",
    "#pip install pandas pandas-gbq"
   ]
  },
  {
   "cell_type": "code",
   "execution_count": 87,
   "metadata": {},
   "outputs": [],
   "source": [
    "import pandas as pd\n",
    "from google.cloud import bigquery\n",
    "from google.oauth2 import service_account\n",
    "from pandas_gbq import to_gbq\n",
    "\n",
    "# Carregue suas credenciais\n",
    "credencial = service_account.Credentials.from_service_account_file(\n",
    "    r'C:\\Users\\edmil\\Downloads\\pythoncurso-398511-260383f13f39.json',\n",
    "    scopes=['https://www.googleapis.com/auth/bigquery']\n",
    ")"
   ]
  },
  {
   "cell_type": "code",
   "execution_count": 1,
   "metadata": {},
   "outputs": [
    {
     "ename": "NameError",
     "evalue": "name 'pd' is not defined",
     "output_type": "error",
     "traceback": [
      "\u001b[1;31m---------------------------------------------------------------------------\u001b[0m",
      "\u001b[1;31mNameError\u001b[0m                                 Traceback (most recent call last)",
      "\u001b[1;32mc:\\Users\\edmil\\OneDrive\\Área de Trabalho\\Aula Python\\Banco de Dados\\Google BigQuery\\4.Carregando Dados para o Google BigQuery.ipynb Célula 3\u001b[0m line \u001b[0;36m1\n\u001b[1;32m----> <a href='vscode-notebook-cell:/c%3A/Users/edmil/OneDrive/%C3%81rea%20de%20Trabalho/Aula%20Python/Banco%20de%20Dados/Google%20BigQuery/4.Carregando%20Dados%20para%20o%20Google%20BigQuery.ipynb#W2sZmlsZQ%3D%3D?line=0'>1</a>\u001b[0m df \u001b[39m=\u001b[39m pd\u001b[39m.\u001b[39mread_excel(\u001b[39mr\u001b[39m\u001b[39m\"\u001b[39m\u001b[39mC:\u001b[39m\u001b[39m\\\u001b[39m\u001b[39mUsers\u001b[39m\u001b[39m\\\u001b[39m\u001b[39medmil\u001b[39m\u001b[39m\\\u001b[39m\u001b[39mOneDrive\u001b[39m\u001b[39m\\\u001b[39m\u001b[39mÁrea de Trabalho\u001b[39m\u001b[39m\\\u001b[39m\u001b[39mMaterial Python-Google BigQuery\u001b[39m\u001b[39m\\\u001b[39m\u001b[39mArquivos\u001b[39m\u001b[39m\\\u001b[39m\u001b[39mOrigem\u001b[39m\u001b[39m\\\u001b[39m\u001b[39marquivos_excel\u001b[39m\u001b[39m\\\u001b[39m\u001b[39mProduto.xlsx\u001b[39m\u001b[39m\"\u001b[39m)\n\u001b[0;32m      <a href='vscode-notebook-cell:/c%3A/Users/edmil/OneDrive/%C3%81rea%20de%20Trabalho/Aula%20Python/Banco%20de%20Dados/Google%20BigQuery/4.Carregando%20Dados%20para%20o%20Google%20BigQuery.ipynb#W2sZmlsZQ%3D%3D?line=1'>2</a>\u001b[0m df\u001b[39m.\u001b[39mhead()\n",
      "\u001b[1;31mNameError\u001b[0m: name 'pd' is not defined"
     ]
    }
   ],
   "source": [
    "df = pd.read_excel(r\"C:\\Users\\edmil\\OneDrive\\Área de Trabalho\\Material Python-Google BigQuery\\Arquivos\\Origem\\arquivos_excel\\Produto.xlsx\")\n",
    "df.head()"
   ]
  },
  {
   "cell_type": "code",
   "execution_count": 89,
   "metadata": {},
   "outputs": [
    {
     "name": "stderr",
     "output_type": "stream",
     "text": [
      "100%|██████████| 1/1 [00:00<?, ?it/s]\n"
     ]
    }
   ],
   "source": [
    "# Envie o DataFrame para o BigQuery\n",
    "df.to_gbq(destination_table='pythoncurso-398511.AulaPython.Produto',  # Substitua pelo nome correto da tabela(obs caminho completo)\n",
    "          project_id='pythoncurso-398511',\n",
    "          if_exists='replace',\n",
    "          credentials=credencial)\n",
    "\n",
    "#replace = subistuir a antiga pela original \n",
    "#append = adiciona dados no fim da tabela"
   ]
  }
 ],
 "metadata": {
  "kernelspec": {
   "display_name": "Python 3",
   "language": "python",
   "name": "python3"
  },
  "language_info": {
   "codemirror_mode": {
    "name": "ipython",
    "version": 3
   },
   "file_extension": ".py",
   "mimetype": "text/x-python",
   "name": "python",
   "nbconvert_exporter": "python",
   "pygments_lexer": "ipython3",
   "version": "3.11.4"
  },
  "orig_nbformat": 4
 },
 "nbformat": 4,
 "nbformat_minor": 2
}
